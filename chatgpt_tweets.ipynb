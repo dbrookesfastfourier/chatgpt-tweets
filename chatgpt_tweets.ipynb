{
  "nbformat": 4,
  "nbformat_minor": 0,
  "metadata": {
    "colab": {
      "provenance": []
    },
    "kernelspec": {
      "name": "python3",
      "display_name": "Python 3"
    },
    "language_info": {
      "name": "python"
    }
  },
  "cells": [
    {
      "cell_type": "markdown",
      "source": [
        "# Chat GPT Tweets\n",
        "Fetch the latest tweets about #chatgpt and analyse them"
      ],
      "metadata": {
        "id": "u4w5wcH2AX9O"
      }
    },
    {
      "cell_type": "code",
      "source": [],
      "metadata": {
        "id": "IZvrJ1ZDAyq6"
      },
      "execution_count": null,
      "outputs": []
    }
  ]
}